{
 "cells": [
  {
   "cell_type": "markdown",
   "metadata": {},
   "source": [
    "## Anderson Silva's xxx WQ-MAKER genome annotation"
   ]
  },
  {
   "cell_type": "code",
   "execution_count": 1,
   "metadata": {},
   "outputs": [],
   "source": [
    "# After mounting the volume, change to that volume\n",
    "cd /vol_c"
   ]
  },
  {
   "cell_type": "code",
   "execution_count": 2,
   "metadata": {},
   "outputs": [
    {
     "name": "stdout",
     "output_type": "stream",
     "text": [
      "lost+found  moss_WQ_MAKER\n"
     ]
    }
   ],
   "source": [
    "# Check the contents of the volume\n",
    "ls"
   ]
  },
  {
   "cell_type": "code",
   "execution_count": 3,
   "metadata": {},
   "outputs": [
    {
     "name": "stdout",
     "output_type": "stream",
     "text": [
      "NOTICE: created irodsHome=/iplant/home/upendra_35\n",
      "NOTICE: created irodsCwd=/iplant/home/upendra_35\n",
      "NOTICE: created irodsHome=/iplant/home/upendra_35\n",
      "NOTICE: created irodsCwd=/iplant/home/upendra_35\n",
      "NOTICE: created irodsHome=/iplant/home/upendra_35\n",
      "NOTICE: created irodsCwd=/iplant/home/upendra_35\n",
      "NOTICE: created irodsHome=/iplant/home/upendra_35\n",
      "NOTICE: created irodsCwd=/iplant/home/upendra_35\n",
      "NOTICE: created irodsHome=/iplant/home/upendra_35\n",
      "NOTICE: created irodsCwd=/iplant/home/upendra_35\n",
      "NOTICE: created irodsHome=/iplant/home/upendra_35\n",
      "NOTICE: created irodsCwd=/iplant/home/upendra_35\n",
      "NOTICE: created irodsHome=/iplant/home/upendra_35\n",
      "NOTICE: created irodsCwd=/iplant/home/upendra_35\n",
      "D- ./New_WQ_MAKER :\n",
      "0/4 -  0.00% of files done   0.000/414.854 MB -  0.00% of file sizes done\n",
      "Processing My_CDS_min_len150_1.fasta - 31.075 MB   2017-10-22.18:58:23\n",
      "   My_CDS_min_len150_1.fasta      31.075 MB | 2.260 sec | 0 thr | 13.749 MB/s\n",
      "1/4 - 25.00% of files done   31.075/414.854 MB -  7.49% of file sizes done\n",
      "Processing My_Final_Unigene.fasta - 50.474 MB   2017-10-22.18:58:25\n",
      "From server: NumThreads=2, addr:dusty.iplantcollaborative.org, port:20121, cookie=704920241\n",
      "NOTICE: created irodsHome=/iplant/home/upendra_35\n",
      "NOTICE: created irodsCwd=/iplant/home/upendra_35\n",
      "NOTICE: created irodsHome=/iplant/home/upendra_35\n",
      "NOTICE: created irodsCwd=/iplant/home/upendra_35\n",
      "NOTICE: created irodsHome=/iplant/home/upendra_35\n",
      "NOTICE: created irodsCwd=/iplant/home/upendra_35\n",
      "My_Final_Unigene.fasta - 25.237/50.474 MB - 50.00% done   2017-10-22.18:58:28\n",
      "My_Final_Unigene.fasta - 50.474/50.474 MB - 100.00% done   2017-10-22.18:58:28\n",
      "   My_Final_Unigene.fasta         50.474 MB | 3.238 sec | 2 thr | 15.590 MB/s\n",
      "2/4 - 50.00% of files done   81.550/414.854 MB - 19.66% of file sizes done\n",
      "Processing My_Pep_min_len50.fasta - 11.518 MB   2017-10-22.18:58:28\n",
      "   My_Pep_min_len50.fasta         11.518 MB | 0.767 sec | 0 thr | 15.020 MB/s\n",
      "3/4 - 75.00% of files done   93.068/414.854 MB - 22.43% of file sizes done\n",
      "Processing final_assembly.gapclosed.fa - 321.786 MB   2017-10-22.18:58:29\n",
      "From server: NumThreads=11, addr:romeo.iplantcollaborative.org, port:20136, cookie=2058699068\n",
      "NOTICE: created irodsHome=/iplant/home/upendra_35\n",
      "NOTICE: created irodsCwd=/iplant/home/upendra_35\n",
      "NOTICE: created irodsHome=/iplant/home/upendra_35\n",
      "NOTICE: created irodsCwd=/iplant/home/upendra_35\n",
      "NOTICE: created irodsHome=/iplant/home/upendra_35\n",
      "NOTICE: created irodsCwd=/iplant/home/upendra_35\n",
      "NOTICE: created irodsHome=/iplant/home/upendra_35\n",
      "NOTICE: created irodsCwd=/iplant/home/upendra_35\n",
      "NOTICE: created irodsHome=/iplant/home/upendra_35\n",
      "NOTICE: created irodsCwd=/iplant/home/upendra_35\n",
      "NOTICE: created irodsHome=/iplant/home/upendra_35\n",
      "NOTICE: created irodsCwd=/iplant/home/upendra_35\n",
      "NOTICE: created irodsHome=/iplant/home/upendra_35\n",
      "NOTICE: created irodsCwd=/iplant/home/upendra_35\n",
      "NOTICE: created irodsHome=/iplant/home/upendra_35\n",
      "NOTICE: created irodsCwd=/iplant/home/upendra_35\n",
      "NOTICE: created irodsHome=/iplant/home/upendra_35\n",
      "NOTICE: created irodsCwd=/iplant/home/upendra_35\n",
      "NOTICE: created irodsHome=/iplant/home/upendra_35\n",
      "NOTICE: created irodsCwd=/iplant/home/upendra_35\n",
      "NOTICE: created irodsHome=/iplant/home/upendra_35\n",
      "NOTICE: created irodsCwd=/iplant/home/upendra_35\n",
      "NOTICE: created irodsHome=/iplant/home/upendra_35\n",
      "NOTICE: created irodsCwd=/iplant/home/upendra_35\n",
      "final_assembly.gapclosed.fa - 175.520/321.786 MB - 54.55% done   2017-10-22.18:58:34\n",
      "final_assembly.gapclosed.fa - 321.786/321.786 MB - 100.00% done   2017-10-22.18:58:35\n",
      "   final_assembly.gapclosed.     321.786 MB | 5.582 sec | 11 thr | 57.647 MB/s\n",
      "NOTICE: created irodsHome=/iplant/home/upendra_35\n",
      "NOTICE: created irodsCwd=/iplant/home/upendra_35\n"
     ]
    }
   ],
   "source": [
    "# Copy the contents from Datastore\n",
    "iget -rPVT /iplant/home/andersonsi/Shared_upendra/New_WQ_MAKER"
   ]
  },
  {
   "cell_type": "code",
   "execution_count": 4,
   "metadata": {},
   "outputs": [
    {
     "name": "stdout",
     "output_type": "stream",
     "text": [
      "lost+found  moss_WQ_MAKER  New_WQ_MAKER\n"
     ]
    }
   ],
   "source": [
    "# Check the contents again\n",
    "ls"
   ]
  },
  {
   "cell_type": "code",
   "execution_count": 5,
   "metadata": {},
   "outputs": [],
   "source": [
    "# Change the name of the folder\n",
    "mv New_WQ_MAKER moss_WQ_MAKER"
   ]
  },
  {
   "cell_type": "code",
   "execution_count": 6,
   "metadata": {},
   "outputs": [],
   "source": [
    "# Change to the new folder\n",
    "cd moss_WQ_MAKER"
   ]
  },
  {
   "cell_type": "code",
   "execution_count": 7,
   "metadata": {},
   "outputs": [
    {
     "name": "stdout",
     "output_type": "stream",
     "text": [
      "final_assembly.gapclosed.fa  My_Final_Unigene.fasta\n",
      "My_CDS_min_len150_1.fasta    My_Pep_min_len50.fasta\n"
     ]
    }
   ],
   "source": [
    "# Check the contents again\n",
    "ls"
   ]
  },
  {
   "cell_type": "code",
   "execution_count": 8,
   "metadata": {},
   "outputs": [
    {
     "name": "stdout",
     "output_type": "stream",
     "text": [
      "mv: cannot move 'data' to a subdirectory of itself, 'data/data'\n"
     ]
    },
    {
     "ename": "",
     "evalue": "1",
     "output_type": "error",
     "traceback": []
    }
   ],
   "source": [
    "# Make a new directory and move the contents to the new directory\n",
    "mkdir data && mv * data"
   ]
  },
  {
   "cell_type": "code",
   "execution_count": 9,
   "metadata": {},
   "outputs": [
    {
     "name": "stdout",
     "output_type": "stream",
     "text": [
      "data\n"
     ]
    }
   ],
   "source": [
    "# Check the contents again\n",
    "ls"
   ]
  },
  {
   "cell_type": "code",
   "execution_count": 10,
   "metadata": {},
   "outputs": [
    {
     "name": "stdout",
     "output_type": "stream",
     "text": [
      "final_assembly.gapclosed.fa  My_Final_Unigene.fasta\n",
      "My_CDS_min_len150_1.fasta    My_Pep_min_len50.fasta\n"
     ]
    }
   ],
   "source": [
    "# Check the contents in the data folder\n",
    "ls data"
   ]
  },
  {
   "cell_type": "code",
   "execution_count": 11,
   "metadata": {},
   "outputs": [],
   "source": [
    "# Navigate to the data folder\n",
    "cd data"
   ]
  },
  {
   "cell_type": "code",
   "execution_count": 12,
   "metadata": {},
   "outputs": [],
   "source": [
    "# Combine the 2 transcriptome/est files \n",
    "cat My_CDS_min_len150_1.fasta My_Final_Unigene.fasta > My_CDS_min_len150_1_Unigene_comb.fasta"
   ]
  },
  {
   "cell_type": "code",
   "execution_count": 13,
   "metadata": {},
   "outputs": [],
   "source": [
    "# Navigate one directory up\n",
    "cd .."
   ]
  },
  {
   "cell_type": "markdown",
   "metadata": {},
   "source": [
    "## Set-up MAKER run"
   ]
  },
  {
   "cell_type": "code",
   "execution_count": 14,
   "metadata": {},
   "outputs": [
    {
     "name": "stdout",
     "output_type": "stream",
     "text": [
      "Argument \"2.53_01\" isn't numeric in numeric ge (>=) at /usr/local/lib/x86_64-linux-gnu/perl/5.22.1/forks.pm line 1570.\n"
     ]
    }
   ],
   "source": [
    "# Create maker files\n",
    "maker -CTL"
   ]
  },
  {
   "cell_type": "code",
   "execution_count": 15,
   "metadata": {},
   "outputs": [],
   "source": [
    "# Remove the maker_opts.ctl file\n",
    "rm maker_opts.ctl"
   ]
  },
  {
   "cell_type": "code",
   "execution_count": 16,
   "metadata": {},
   "outputs": [],
   "source": [
    "# Copy the maker_opts.ctl file from the example files\n",
    "cp /opt/WQ-MAKER_example_data/maker_opts.ctl ."
   ]
  },
  {
   "cell_type": "code",
   "execution_count": 17,
   "metadata": {},
   "outputs": [
    {
     "name": "stdout",
     "output_type": "stream",
     "text": [
      "genome=./data/final_assembly.gapclosed.fa  #genome sequence (fasta file or fasta embeded in GFF3 file)\n",
      "est=./data/My_CDS_min_len150_1_Unigene_comb.fasta #set of ESTs or assembled mRNA-seq in fasta format\n",
      "protein=./data/My_Pep_min_len50.fasta  #protein sequence file in fasta format (i.e. from mutiple oransisms)\n",
      "snoscan_rrna=./test_data/Os-rRNA.fa #rRNA file to have Snoscan find snoRNAs\n"
     ]
    }
   ],
   "source": [
    "# After making changes the maker_opts.ctl file, check to see if the new data exits\n",
    "grep \"data/\" maker_opts.ctl"
   ]
  },
  {
   "cell_type": "markdown",
   "metadata": {},
   "source": [
    "## Ansible set-up"
   ]
  },
  {
   "cell_type": "code",
   "execution_count": 18,
   "metadata": {},
   "outputs": [],
   "source": [
    "# Copy the ansible config file from the example folder\n",
    "cp /opt/WQ-MAKER_example_data/.ansible.cfg ~"
   ]
  },
  {
   "cell_type": "code",
   "execution_count": 19,
   "metadata": {},
   "outputs": [
    {
     "name": "stdout",
     "output_type": "stream",
     "text": [
      "[defaults]\n",
      "host_key_checking = False\n"
     ]
    }
   ],
   "source": [
    "# Display the content of the ansible config file\n",
    "cat /home/upendra/.ansible.cfg"
   ]
  },
  {
   "cell_type": "code",
   "execution_count": 32,
   "metadata": {},
   "outputs": [],
   "source": [
    "# Copy the maker-hosts file from the example folder\n",
    "cp /opt/WQ-MAKER_example_data/maker-hosts ."
   ]
  },
  {
   "cell_type": "code",
   "execution_count": 33,
   "metadata": {},
   "outputs": [],
   "source": [
    "# Append the ip address of your workers to the maker-hosts\n",
    "echo \"149.165.169.21\" >> maker-hosts\n",
    "echo \"149.165.169.78\" >> maker-hosts\n",
    "echo \"129.114.104.35\" >> maker-hosts\n",
    "echo \"129.114.104.100\" >> maker-hosts\n",
    "echo \"129.114.104.61\" >> maker-hosts\n",
    "echo \"129.114.104.138\" >> maker-hosts\n",
    "echo \"129.114.104.136\" >> maker-hosts\n",
    "echo \"129.114.104.104\" >> maker-hosts\n",
    "echo \"129.114.104.141\" >> maker-hosts\n",
    "echo \"129.114.104.130\" >> maker-hosts"
   ]
  },
  {
   "cell_type": "code",
   "execution_count": 34,
   "metadata": {},
   "outputs": [
    {
     "name": "stdout",
     "output_type": "stream",
     "text": [
      "[workers]\n",
      "149.165.169.21\n",
      "149.165.169.78\n",
      "129.114.104.35\n",
      "129.114.104.100\n",
      "129.114.104.61\n",
      "129.114.104.138\n",
      "129.114.104.136\n",
      "129.114.104.104\n",
      "129.114.104.141\n",
      "129.114.104.130\n"
     ]
    }
   ],
   "source": [
    "# Display the contents of the maker-hosts file\n",
    "cat maker-hosts"
   ]
  },
  {
   "cell_type": "code",
   "execution_count": 35,
   "metadata": {},
   "outputs": [],
   "source": [
    "# Copy the Ansible playbook from the example folder\n",
    "cp /opt/WQ-MAKER_example_data/worker-launch.yml ."
   ]
  },
  {
   "cell_type": "code",
   "execution_count": 36,
   "metadata": {},
   "outputs": [
    {
     "name": "stdout",
     "output_type": "stream",
     "text": [
      "---\n",
      "- hosts : workers\n",
      "  environment:\n",
      "    PATH: \"{{ ansible_env.PATH }}:/home/${USER}/bin:/home/${USER}/.local/bin:/opt/icommands:/opt/icommands:/opt/exonerate-2.2.0-x86_64/bin/:/opt/cctools/bin:/opt/ncbi-blast-2.6.0+/bin/:/opt/snoscan-0.9.1/:/opt/tRNAscan-SE-1.3.1/:/opt/snap/:/usr/local/sbin:/usr/local/bin:/usr/sbin:/usr/bin:/sbin:/bin:/usr/games:/usr/local/games:/snap/bin:/opt/augustus-3.2.2/bin:/opt/maker/bin:/opt/RepeatMasker:/opt/snap\"\n",
      "    PERL5LIB: \"/opt/tRNAscan-SE-1.3.1::/opt/cctools/lib/perl5/site_perl\"\n",
      "  tasks :\n",
      "  - name : Execute the script\n",
      "    shell : /opt/cctools/bin/work_queue_worker -N wq_test_${USER} -s /home/${USER} --cores all --debug-rotate-max=0 -d all -o /home/${USER}/worker.dbg\n"
     ]
    }
   ],
   "source": [
    "# Display the contents of the ansible playbook\n",
    "cat worker-launch.yml"
   ]
  },
  {
   "cell_type": "code",
   "execution_count": 37,
   "metadata": {},
   "outputs": [],
   "source": [
    "# Change the job name in the ansible playbook\n",
    "sed 's/wq_test_${USER}/wq_mossa_${USER}/g' worker-launch.yml > temp && mv temp worker-launch.yml"
   ]
  },
  {
   "cell_type": "code",
   "execution_count": 38,
   "metadata": {},
   "outputs": [
    {
     "name": "stdout",
     "output_type": "stream",
     "text": [
      "---\n",
      "- hosts : workers\n",
      "  environment:\n",
      "    PATH: \"{{ ansible_env.PATH }}:/home/${USER}/bin:/home/${USER}/.local/bin:/opt/icommands:/opt/icommands:/opt/exonerate-2.2.0-x86_64/bin/:/opt/cctools/bin:/opt/ncbi-blast-2.6.0+/bin/:/opt/snoscan-0.9.1/:/opt/tRNAscan-SE-1.3.1/:/opt/snap/:/usr/local/sbin:/usr/local/bin:/usr/sbin:/usr/bin:/sbin:/bin:/usr/games:/usr/local/games:/snap/bin:/opt/augustus-3.2.2/bin:/opt/maker/bin:/opt/RepeatMasker:/opt/snap\"\n",
      "    PERL5LIB: \"/opt/tRNAscan-SE-1.3.1::/opt/cctools/lib/perl5/site_perl\"\n",
      "  tasks :\n",
      "  - name : Execute the script\n",
      "    shell : /opt/cctools/bin/work_queue_worker -N wq_mossa_${USER} -s /home/${USER} --cores all --debug-rotate-max=0 -d all -o /home/${USER}/worker.dbg\n"
     ]
    }
   ],
   "source": [
    "# Display the contents of the ansible playbook\n",
    "cat worker-launch.yml"
   ]
  },
  {
   "cell_type": "code",
   "execution_count": 39,
   "metadata": {},
   "outputs": [
    {
     "name": "stdout",
     "output_type": "stream",
     "text": [
      "[1] 16983\n"
     ]
    }
   ],
   "source": [
    "# Run work queue maker on the MASTER\n",
    "wq_maker -port 9123 -contigs-per-split 1 -cores 1 -memory 4296 -disk 8392 -N wq_mossa_${USER} -d all -o master.dbg -debug_size_limit=0 > log_file.txt 2>&1 &"
   ]
  },
  {
   "cell_type": "code",
   "execution_count": 40,
   "metadata": {},
   "outputs": [
    {
     "name": "stdout",
     "output_type": "stream",
     "text": [
      "Sun Oct 22 20:20:48 2017 :: Submitting file ./data/final_assembly.gapclosed.fa_001998 for processing.\n",
      "Sun Oct 22 20:20:48 2017 :: Submitted task 2676 for annotating ./data/final_assembly.gapclosed.fa_001998 with command:  maker -g ./data/final_assembly.gapclosed.fa_001998 -base final_assembly.gapclosed -debug_size_limit=0\n",
      "Sun Oct 22 20:20:48 2017 :: Submitting file ./data/final_assembly.gapclosed.fa_000727 for processing.\n",
      "Sun Oct 22 20:20:48 2017 :: Submitted task 2677 for annotating ./data/final_assembly.gapclosed.fa_000727 with command:  maker -g ./data/final_assembly.gapclosed.fa_000727 -base final_assembly.gapclosed -debug_size_limit=0\n",
      "Sun Oct 22 20:20:48 2017 :: Submitting file ./data/final_assembly.gapclosed.fa_000800 for processing.\n",
      "Sun Oct 22 20:20:48 2017 :: Submitted task 2678 for annotating ./data/final_assembly.gapclosed.fa_000800 with command:  maker -g ./data/final_assembly.gapclosed.fa_000800 -base final_assembly.gapclosed -debug_size_limit=0\n",
      "Sun Oct 22 20:20:48 2017 :: Submitting file ./data/final_assembly.gapclosed.fa_001371 for processing.\n",
      "Sun Oct 22 20:20:48 2017 :: Submitted task 2679 for annotating ./data/final_assembly.gapclosed.fa_001371 with command:  maker -g ./data/final_assembly.gapclosed.fa_001371 -base final_assembly.gapclosed -debug_size_limit=0\n",
      "warning: this work queue master is visible to the public.\n",
      "warning: you should set a password with the --password option.\n"
     ]
    }
   ],
   "source": [
    "# Show tail of the log file\n",
    "tail log_file.txt"
   ]
  },
  {
   "cell_type": "code",
   "execution_count": 41,
   "metadata": {},
   "outputs": [
    {
     "name": "stdout",
     "output_type": "stream",
     "text": [
      "[2] 17190\n"
     ]
    }
   ],
   "source": [
    "# Run ansible playbook to run work queue maker on the workers\n",
    "ansible-playbook -u ${USER} -i maker-hosts worker-launch.yml > log_file_2.txt 2>&1 &"
   ]
  },
  {
   "cell_type": "code",
   "execution_count": 42,
   "metadata": {},
   "outputs": [
    {
     "name": "stdout",
     "output_type": "stream",
     "text": [
      "PROJECT            HOST                   PORT WAITING RUNNING COMPLETE WORKERS \n",
      "wq_mossa_upendra   js-129-114-104-169.je  9123    2616      14       49       5 \n"
     ]
    }
   ],
   "source": [
    "# Check the status of work queue maker\n",
    "work_queue_status -M wq_mossa_${USER}"
   ]
  },
  {
   "cell_type": "code",
   "execution_count": 43,
   "metadata": {},
   "outputs": [],
   "source": [
    "# For some reason, the Ansible can only run 5 remote servers at time. So I have to copy the maker-hosts file\n",
    "cp /opt/WQ-MAKER_example_data/maker-hosts maker-hosts2"
   ]
  },
  {
   "cell_type": "code",
   "execution_count": 44,
   "metadata": {},
   "outputs": [],
   "source": [
    "# Append the ip address of your workers to the maker-hosts2 file\n",
    "echo \"129.114.104.138\" >> maker-hosts2\n",
    "echo \"129.114.104.136\" >> maker-hosts2\n",
    "echo \"129.114.104.104\" >> maker-hosts2\n",
    "echo \"129.114.104.130\" >> maker-hosts2\n",
    "echo \"129.114.104.141\" >> maker-hosts2"
   ]
  },
  {
   "cell_type": "code",
   "execution_count": 45,
   "metadata": {},
   "outputs": [
    {
     "name": "stdout",
     "output_type": "stream",
     "text": [
      "[3] 17649\n"
     ]
    }
   ],
   "source": [
    "# Run ansible playbook to run work queue maker on the workers using maker-host2 file\n",
    "ansible-playbook -u ${USER} -i maker-hosts2 worker-launch.yml > log_file_3.txt 2>&1 &"
   ]
  },
  {
   "cell_type": "code",
   "execution_count": 52,
   "metadata": {},
   "outputs": [
    {
     "name": "stdout",
     "output_type": "stream",
     "text": [
      "WQ-MAKER End_time:\t1508753005000000\n",
      "WQ-MAKER Elapsed:\t0d 8:43:32.000000\n",
      "Work Queue Wall Time:\t0d 8:42:36.640545\n",
      "Cumulative Task Wall Time:\t3d 14:43:46.772623\n",
      "Cumulative Task Good Execute Time:\t3d 14:43:46.772623\n",
      "Work Queue Send Time:\t0d 0:07:43.423778\n",
      "Work Queue Receive Time:\t0d 0:21:02.178819\n",
      "-----------------------------------------------------------------\n",
      "Mon Oct 23 05:03:25 2017 :: MPI used :: Cores 1 :: Memory 4296 :: Disk 8392 \n",
      "-----------------------------------------------------------------\n"
     ]
    }
   ],
   "source": [
    "# Check the tail of the log file\n",
    "tail log_file.txt"
   ]
  },
  {
   "cell_type": "code",
   "execution_count": 53,
   "metadata": {},
   "outputs": [],
   "source": [
    "# Navigate to the output folder\n",
    "cd final_assembly.gapclosed.maker.output"
   ]
  },
  {
   "cell_type": "code",
   "execution_count": 54,
   "metadata": {},
   "outputs": [
    {
     "name": "stdout",
     "output_type": "stream",
     "text": [
      "ScPhAot_1_HRSCAF_2\tfinal_assembly.gapclosed_datastore/C7/FA/ScPhAot_1_HRSCAF_2/\tSTARTED\n",
      "ScPhAot_2_HRSCAF_3\tfinal_assembly.gapclosed_datastore/7E/E0/ScPhAot_2_HRSCAF_3/\tSTARTED\n",
      "ScPhAot_3_HRSCAF_4\tfinal_assembly.gapclosed_datastore/1B/86/ScPhAot_3_HRSCAF_4/\tSTARTED\n",
      "ScPhAot_4_HRSCAF_5\tfinal_assembly.gapclosed_datastore/0D/36/ScPhAot_4_HRSCAF_5/\tSTARTED\n",
      "ScPhAot_5_HRSCAF_6\tfinal_assembly.gapclosed_datastore/B5/E9/ScPhAot_5_HRSCAF_6/\tSTARTED\n",
      "ScPhAot_6_HRSCAF_7\tfinal_assembly.gapclosed_datastore/40/09/ScPhAot_6_HRSCAF_7/\tSTARTED\n",
      "ScPhAot_7_HRSCAF_10\tfinal_assembly.gapclosed_datastore/21/EA/ScPhAot_7_HRSCAF_10/\tSTARTED\n",
      "ScPhAot_8_HRSCAF_11\tfinal_assembly.gapclosed_datastore/54/3E/ScPhAot_8_HRSCAF_11/\tSTARTED\n",
      "ScPhAot_9_HRSCAF_12\tfinal_assembly.gapclosed_datastore/FD/B6/ScPhAot_9_HRSCAF_12/\tSTARTED\n",
      "ScPhAot_10_HRSCAF_13\tfinal_assembly.gapclosed_datastore/D1/47/ScPhAot_10_HRSCAF_13/\tSTARTED\n"
     ]
    }
   ],
   "source": [
    "# Check the contents of the log file\n",
    "head final_assembly.gapclosed_master_datastore_index.log"
   ]
  },
  {
   "cell_type": "code",
   "execution_count": 55,
   "metadata": {},
   "outputs": [
    {
     "name": "stdout",
     "output_type": "stream",
     "text": [
      "ScPhAot_2670_HRSCAF_3033\tfinal_assembly.gapclosed_datastore/09/09/ScPhAot_2670_HRSCAF_3033/\tFINISHED\n",
      "ScPhAot_2671_HRSCAF_3034\tfinal_assembly.gapclosed_datastore/32/38/ScPhAot_2671_HRSCAF_3034/\tFINISHED\n",
      "ScPhAot_2672_HRSCAF_3035\tfinal_assembly.gapclosed_datastore/D8/6E/ScPhAot_2672_HRSCAF_3035/\tFINISHED\n",
      "ScPhAot_2673_HRSCAF_3036\tfinal_assembly.gapclosed_datastore/84/93/ScPhAot_2673_HRSCAF_3036/\tFINISHED\n",
      "ScPhAot_2674_HRSCAF_3037\tfinal_assembly.gapclosed_datastore/54/96/ScPhAot_2674_HRSCAF_3037/\tFINISHED\n",
      "ScPhAot_2675_HRSCAF_3038\tfinal_assembly.gapclosed_datastore/78/B9/ScPhAot_2675_HRSCAF_3038/\tFINISHED\n",
      "ScPhAot_2676_HRSCAF_3040\tfinal_assembly.gapclosed_datastore/44/F5/ScPhAot_2676_HRSCAF_3040/\tFINISHED\n",
      "ScPhAot_2677_HRSCAF_3041\tfinal_assembly.gapclosed_datastore/0E/E2/ScPhAot_2677_HRSCAF_3041/\tFINISHED\n",
      "ScPhAot_2678_HRSCAF_3042\tfinal_assembly.gapclosed_datastore/75/B9/ScPhAot_2678_HRSCAF_3042/\tFINISHED\n",
      "ScPhAot_2679_HRSCAF_3116\tfinal_assembly.gapclosed_datastore/56/36/ScPhAot_2679_HRSCAF_3116/\tFINISHED\n"
     ]
    }
   ],
   "source": [
    "# Check the contents of the log file\n",
    "tail final_assembly.gapclosed_master_datastore_index.log"
   ]
  },
  {
   "cell_type": "code",
   "execution_count": 56,
   "metadata": {},
   "outputs": [],
   "source": [
    "# Merge the gff files\n",
    "gff3_merge -n -d final_assembly.gapclosed_master_datastore_index.log"
   ]
  },
  {
   "cell_type": "code",
   "execution_count": 57,
   "metadata": {},
   "outputs": [
    {
     "name": "stdout",
     "output_type": "stream",
     "text": [
      "final_assembly.gapclosed.all.gff\t\t     maker_exe.log\n",
      "final_assembly.gapclosed_datastore\t\t     maker_opts.log\n",
      "final_assembly.gapclosed_master_datastore_index.log  mpi_blastdb\n",
      "maker_bopts.log\n"
     ]
    }
   ],
   "source": [
    "# Check the contents of the output folder\n",
    "ls"
   ]
  },
  {
   "cell_type": "code",
   "execution_count": 63,
   "metadata": {},
   "outputs": [
    {
     "name": "stdout",
     "output_type": "stream",
     "text": [
      "2672\n"
     ]
    }
   ],
   "source": [
    "# Check the number of contigs annotated\n",
    "cut -f1 final_assembly.gapclosed.all.gff | sort | uniq | grep -v \"#\" | wc -l"
   ]
  },
  {
   "cell_type": "code",
   "execution_count": 64,
   "metadata": {},
   "outputs": [
    {
     "name": "stdout",
     "output_type": "stream",
     "text": [
      "2679\n"
     ]
    }
   ],
   "source": [
    "# Check the number of contigs int the fasta file\n",
    "grep \">\" -c ../data/final_assembly.gapclosed.fa"
   ]
  }
 ],
 "metadata": {
  "kernelspec": {
   "display_name": "Bash",
   "language": "bash",
   "name": "bash"
  },
  "language_info": {
   "codemirror_mode": "shell",
   "file_extension": ".sh",
   "mimetype": "text/x-sh",
   "name": "bash"
  }
 },
 "nbformat": 4,
 "nbformat_minor": 2
}
