{
 "cells": [
  {
   "cell_type": "markdown",
   "metadata": {},
   "source": [
    "# Set up a WQ-MAKER run using the Jupyter Notebook"
   ]
  },
  {
   "cell_type": "markdown",
   "metadata": {},
   "source": [
    "## Step 1. Get oriented. "
   ]
  },
  {
   "cell_type": "markdown",
   "metadata": {},
   "source": [
    "You will find staged example data in \"/opt/WQ-MAKER_example_data/\" within the MASTER instance. List its contents with the `ls` command:"
   ]
  },
  {
   "cell_type": "code",
   "execution_count": 1,
   "metadata": {
    "collapsed": false
   },
   "outputs": [
    {
     "name": "stdout",
     "output_type": "stream",
     "text": [
      "maker_bopts.ctl  maker_opts.ctl     worker-launch.yml.BU\r\n",
      "maker_exe.ctl\t test_data\t    WQ-MAKER-Jupyter-notebook.ipynb\r\n",
      "maker-hosts\t worker-launch.yml\r\n"
     ]
    }
   ],
   "source": [
    "!ls /opt/WQ-MAKER_example_data/"
   ]
  },
  {
   "cell_type": "code",
   "execution_count": 2,
   "metadata": {
    "collapsed": false,
    "scrolled": true
   },
   "outputs": [
    {
     "name": "stdout",
     "output_type": "stream",
     "text": [
      "mRNA.fasta\t\t  Os-rRNA.fa\t       test_genome_chr1.fasta\r\n",
      "msu-irgsp-proteins.fasta  plant_repeats.fasta  test_genome.fasta\r\n"
     ]
    }
   ],
   "source": [
    "!ls /opt/WQ-MAKER_example_data/test_data"
   ]
  },
  {
   "cell_type": "markdown",
   "metadata": {},
   "source": [
    "- maker_*.ctl file are a set of configuration files that can be used for this exercise or generated as described below. \n",
    "- worker-launch.yml and maker-hosts are ansible-playbook and host file for luanching jobs on WORKERS (optional for WQ-MAKER)\n",
    "- fasta files include a scaled-down genome (test_genome.fasta) which is comprised of the first 300kb of 12 chromosomes of rice and scaled-down genome (test_genome_chr1.fasta) which is comprised of the first 300kb of first chromosome of rice\n",
    "- mRNA sequences from NCBI (mRNA.fasta)\n",
    "- publicly available annotated protein sequences of rice (MSU7.0 and IRGSP1.0) - msu-irgsp-proteins.fasta\n",
    "collection of plant repeats (plant_repeats.fasta)\n",
    "- ribosomal RNAsequence of rice (Os-rRNA.fa)"
   ]
  },
  {
   "cell_type": "markdown",
   "metadata": {},
   "source": [
    "Executables for running MAKER are located in /opt/maker/bin and /opt/maker/exe:"
   ]
  },
  {
   "cell_type": "code",
   "execution_count": 3,
   "metadata": {
    "collapsed": false
   },
   "outputs": [
    {
     "name": "stdout",
     "output_type": "stream",
     "text": [
      "cegma2zff\t   gff3_merge\t   maker2wap\t\t   map_fasta_ids\r\n",
      "chado2gff3\t   iprscan2gff3    maker2zff\t\t   map_gff_ids\r\n",
      "compare\t\t   iprscan_wrap    maker_functional\t   mpi_evaluator\r\n",
      "cufflinks2gff3\t   ipr_update_gff  maker_functional_fasta  mpi_iprscan\r\n",
      "evaluator\t   maker\t   maker_functional_gff    tophat2gff3\r\n",
      "fasta_merge\t   maker2chado\t   maker_map_ids\r\n",
      "fasta_tool\t   maker2eval_gtf  map2assembly\r\n",
      "genemark_gtf2gff3  maker2jbrowse   map_data_ids\r\n"
     ]
    }
   ],
   "source": [
    "!ls /opt/maker/bin/"
   ]
  },
  {
   "cell_type": "markdown",
   "metadata": {},
   "source": [
    "As the names suggest the **/opt/maker/bin** directory includes many useful auxiliary scripts.  For example cufflinks2gff3 will convert output from an RNA-seq analysis into a GFF3 file that can be used for input as evidence for WQ-MAKER. RepeatMasker, augustus, blast, exonerate, and snap are programs that MAKER uses in its pipeline.  We recommend reading [MAKER Tutorial](http://weatherby.genetics.utah.edu/MAKER/wiki/index.php/MAKER_Tutorial_for_GMOD_Online_Training_2014) at GMOD for more information about these."
   ]
  },
  {
   "cell_type": "markdown",
   "metadata": {},
   "source": [
    "### Step 2. Set up a WQ-MAKER run.  Create a working directory called \"maker_run\" on your home directory using the mkdir command and use cd to move into that directory:"
   ]
  },
  {
   "cell_type": "markdown",
   "metadata": {},
   "source": [
    "Navigate to the mounted volume for creating test directory"
   ]
  },
  {
   "cell_type": "code",
   "execution_count": 4,
   "metadata": {
    "collapsed": false
   },
   "outputs": [
    {
     "name": "stdout",
     "output_type": "stream",
     "text": [
      "/vol_b\n"
     ]
    }
   ],
   "source": [
    "%cd /vol_b"
   ]
  },
  {
   "cell_type": "code",
   "execution_count": 5,
   "metadata": {
    "collapsed": false
   },
   "outputs": [
    {
     "name": "stdout",
     "output_type": "stream",
     "text": [
      "/vol_b/wq_maker_run\n"
     ]
    }
   ],
   "source": [
    "!mkdir wq_maker_run\n",
    "%cd wq_maker_run"
   ]
  },
  {
   "cell_type": "markdown",
   "metadata": {},
   "source": [
    "### Step 3. Copy the contents of  \"WQ-MAKER_example_data\" into the current directory using cp -r command.  Verify using the ls command.  Change the permissions on that directory"
   ]
  },
  {
   "cell_type": "code",
   "execution_count": 6,
   "metadata": {
    "collapsed": false
   },
   "outputs": [],
   "source": [
    "!cp -r /opt/WQ-MAKER_example_data/test_data ."
   ]
  },
  {
   "cell_type": "code",
   "execution_count": 7,
   "metadata": {
    "collapsed": false,
    "scrolled": true
   },
   "outputs": [
    {
     "name": "stdout",
     "output_type": "stream",
     "text": [
      "Argument \"2.53_01\" isn't numeric in numeric ge (>=) at /usr/local/lib/x86_64-linux-gnu/perl/5.22.1/forks.pm line 1570.\n",
      "\n",
      "MAKER version 2.31.9\n",
      "\n",
      "Usage:\n",
      "\n",
      "     maker [options] <maker_opts> <maker_bopts> <maker_exe>\n",
      "\n",
      "\n",
      "Description:\n",
      "\n",
      "     MAKER is a program that produces gene annotations in GFF3 format using\n",
      "     evidence such as EST alignments and protein homology. MAKER can be used to\n",
      "     produce gene annotations for new genomes as well as update annotations\n",
      "     from existing genome databases.\n",
      "\n",
      "     The three input arguments are control files that specify how MAKER should\n",
      "     behave. All options for MAKER should be set in the control files, but a\n",
      "     few can also be set on the command line. Command line options provide a\n",
      "     convenient machanism to override commonly altered control file values.\n",
      "     MAKER will automatically search for the control files in the current\n",
      "     working directory if they are not specified on the command line.\n",
      "\n",
      "     Input files listed in the control options files must be in fasta format\n",
      "     unless otherwise specified. Please see MAKER documentation to learn more\n",
      "     about control file  configuration.  MAKER will automatically try and\n",
      "     locate the user control files in the current working directory if these\n",
      "     arguments are not supplied when initializing MAKER.\n",
      "\n",
      "     It is important to note that MAKER does not try and recalculated data that\n",
      "     it has already calculated.  For example, if you run an analysis twice on\n",
      "     the same dataset you will notice that MAKER does not rerun any of the\n",
      "     BLAST analyses, but instead uses the blast analyses stored from the\n",
      "     previous run. To force MAKER to rerun all analyses, use the -f flag.\n",
      "\n",
      "     MAKER also supports parallelization via MPI on computer clusters. Just\n",
      "     launch MAKER via mpiexec (i.e. mpiexec -n 40 maker). MPI support must be\n",
      "     configured during the MAKER installation process for this to work though\n",
      "     \n",
      "\n",
      "Options:\n",
      "\n",
      "     -genome|g <file>    Overrides the genome file path in the control files\n",
      "\n",
      "     -RM_off|R           Turns all repeat masking options off.\n",
      "\n",
      "     -datastore/         Forcably turn on/off MAKER's two deep directory\n",
      "      nodatastore        structure for output.  Always on by default.\n",
      "\n",
      "     -old_struct         Use the old directory styles (MAKER 2.26 and lower)\n",
      "\n",
      "     -base    <string>   Set the base name MAKER uses to save output files.\n",
      "                         MAKER uses the input genome file name by default.\n",
      "\n",
      "     -tries|t <integer>  Run contigs up to the specified number of tries.\n",
      "\n",
      "     -cpus|c  <integer>  Tells how many cpus to use for BLAST analysis.\n",
      "                         Note: this is for BLAST and not for MPI!\n",
      "\n",
      "     -force|f            Forces MAKER to delete old files before running again.\n",
      "\t\t\t This will require all blast analyses to be rerun.\n",
      "\n",
      "     -again|a            recaculate all annotations and output files even if no\n",
      "\t\t\t settings have changed. Does not delete old analyses.\n",
      "\n",
      "     -quiet|q            Regular quiet. Only a handlful of status messages.\n",
      "\n",
      "     -qq                 Even more quiet. There are no status messages.\n",
      "\n",
      "     -dsindex            Quickly generate datastore index file. Note that this\n",
      "                         will not check if run settings have changed on contigs\n",
      "\n",
      "     -nolock             Turn off file locks. May be usful on some file systems,\n",
      "                         but can cause race conditions if running in parallel.\n",
      "\n",
      "     -TMP                Specify temporary directory to use.\n",
      "\n",
      "     -CTL                Generate empty control files in the current directory.\n",
      "\n",
      "     -OPTS               Generates just the maker_opts.ctl file.\n",
      "\n",
      "     -BOPTS              Generates just the maker_bopts.ctl file.\n",
      "\n",
      "     -EXE                Generates just the maker_exe.ctl file.\n",
      "\n",
      "     -MWAS    <option>   Easy way to control mwas_server for web-based GUI\n",
      "\n",
      "                              options:  STOP\n",
      "                                        START\n",
      "                                        RESTART\n",
      "\n",
      "     -version            Prints the MAKER version.\n",
      "\n",
      "     -help|?             Prints this usage statement.\n",
      "\n",
      "\n"
     ]
    }
   ],
   "source": [
    "!maker -h"
   ]
  },
  {
   "cell_type": "markdown",
   "metadata": {
    "collapsed": true
   },
   "source": [
    "### Step 5.  Create control files that tell MAKER what to do. Three files are required:"
   ]
  },
  {
   "cell_type": "markdown",
   "metadata": {},
   "source": [
    "- maker_opts.ctl - gives location of input files (genome and evidence) and sets options that affect MAKER behavior\n",
    "- maker_exe.ctl - gives path information for the underlying executables.\n",
    "- maker_bopt.ctl - sets parameters for filtering BLAST and Exonerate alignment results"
   ]
  },
  {
   "cell_type": "code",
   "execution_count": 8,
   "metadata": {
    "collapsed": false
   },
   "outputs": [
    {
     "name": "stdout",
     "output_type": "stream",
     "text": [
      "Argument \"2.53_01\" isn't numeric in numeric ge (>=) at /usr/local/lib/x86_64-linux-gnu/perl/5.22.1/forks.pm line 1570.\n",
      "maker_bopts.ctl  maker_exe.ctl\tmaker_opts.ctl\ttest_data\n"
     ]
    }
   ],
   "source": [
    "!maker -CTL\n",
    "!ls"
   ]
  },
  {
   "cell_type": "markdown",
   "metadata": {},
   "source": [
    "- The \"maker_exe.ctl\" is automatically generated with the correct paths to executables and does not need to be modified.  \n",
    "- The \"maker_bopt.ctl\" is automatically generated with reasonable default parameters and also does not need to be modified unless you want to experiment with optimization of these parameters.\n",
    "- The automatically generated \"maker_opts.ctl\" file **needs to be modified** in order to specify the genome file and evidence files to be used as input.  You can use the text editor **\"vi\"** or **\"nano\"** that is already installed in the **MASTER** instance"
   ]
  },
  {
   "cell_type": "code",
   "execution_count": 9,
   "metadata": {
    "collapsed": true
   },
   "outputs": [],
   "source": [
    "# If pressed for time a pre-edited version of the \"maker_opts.ctl\" file is staged in /opt/WQ-MAKER_example_data. Delete the current file and copy the staged version here and then skip to **Step 6**.\n",
    "!rm maker_opts.ctl\n",
    "!cp /opt/WQ-MAKER_example_data/maker_opts.ctl ."
   ]
  },
  {
   "cell_type": "markdown",
   "metadata": {},
   "source": [
    "**Otherwise** open the maker_opts.ctl in a text editor of choice (**vi** or **nano**) on the command line and edit the following changes in the **maker_opts.ctl** file. Here are the sections of the \"maker_opts.ctl\" file you need to edit.  For more information about the this please check this [The_MAKER_control_files_explained](http://weatherby.genetics.utah.edu/MAKER/wiki/index.php/The_MAKER_control_files_explained) - Add path information to files as shown.\n",
    "\n",
    "* Do not allow any spaces after the equal sign or anywhere else.\n",
    "* The files can be present in same the directory as the \"maker_opts.ctl\" or make sure you use the relative path if the files are present in other directories"
   ]
  },
  {
   "cell_type": "markdown",
   "metadata": {},
   "source": [
    "This section pertains to specifying the genome assembly to be annotated and setting organism type:\n",
    "\n",
    "#-----Genome (these are always required)\n",
    "\n",
    "genome=./test_data/test_genome.fasta #genome sequence (fasta file or fasta embeded in GFF3 file)"
   ]
  },
  {
   "cell_type": "markdown",
   "metadata": {},
   "source": [
    "The following section pertains to EST and other mRNA expression evidence.  Here we are only using same species data, but one could specify data from a related species using the \"altest\" parameter. With RNA-seq data aligned to your genome by Cufflinks or Tophat one could use maker auxiliary scripts (cufflinks2gff3 and tophat2gff3) to generate GFF3 files and specify these using the est_gff parameter:\n",
    "\n",
    "#-----EST Evidence (for best results provide a file for at least one)\n",
    "\n",
    "est=./test_data/mRNA.fasta #set of ESTs or assembled mRNA-seq in fasta format\n",
    "\n",
    "altest= #EST/cDNA sequence file in fasta format from an alternate organism"
   ]
  },
  {
   "cell_type": "markdown",
   "metadata": {},
   "source": [
    "The following section pertains to protein sequence evidence.  Here we are using previously annotated protein sequences.  Another option would be to use SwissProt or other database:\n",
    "\n",
    "#-----Protein Homology Evidence (for best results provide a file for at least one)\n",
    "\n",
    "protein=./test_data/msu-irgsp-proteins.fasta  #protein sequence file in fasta format (i.e. from mutiple oransisms)"
   ]
  },
  {
   "cell_type": "markdown",
   "metadata": {},
   "source": [
    "This next section pertains to repeat identification:\n",
    "\n",
    "#-----Repeat Masking (leave values blank to skip repeat masking)\n",
    "\n",
    "model_org= #select a model organism for RepBase masking in RepeatMasker\n",
    "\n",
    "rmlib=./test_data/plant_repeats.fasta #provide an organism specific repeat library in fasta format for RepeatMasker"
   ]
  },
  {
   "cell_type": "markdown",
   "metadata": {},
   "source": [
    "### Step 6.  Run WQ-MAKER on MASTER"
   ]
  },
  {
   "cell_type": "code",
   "execution_count": 12,
   "metadata": {
    "collapsed": false
   },
   "outputs": [
    {
     "data": {
      "text/plain": [
       "0"
      ]
     },
     "execution_count": 12,
     "metadata": {},
     "output_type": "execute_result"
    }
   ],
   "source": [
    "import os\n",
    "os.system(\"wq_maker -contigs-per-split 1 -cores 1 -memory 2048 -disk 4096 -N wq_test_${USER} -d all -o master.dbg -debug_size_limit=0 > log_file 2>&1 &\")"
   ]
  },
  {
   "cell_type": "markdown",
   "metadata": {},
   "source": [
    "* -contigs-per-split 1: splits the genome file into 1 contig/scaffold/sequence per file. By specifiying this option, we are telling wq_maker to split the genome file into 1 sequence per file. By default, the wq_maker splits the fasta file into 10 sequences per file and this case, it is not ideal because, there will be 2 files (1 containing chromosomes from 1-10 and the other containing 11-12). This will decrease the speed at the wq_maker annotates the genome. \n",
    "\n",
    "**Unless otherwise you have a complete genome containing chromosomes or very few scaffolds, it is not recommended to use this option. For example if you have a genome that contains 10,000 sequences, then this option will create 10,000 files on your working directory which is not ideal of navigation purposes. Check to see how many contigs/scaffolds/chromosomes you have in your genome using \n",
    "$$grep \">\" -c <genome fasta file>$$\n",
    "and if the number is too high, then avoid this option**\n",
    "\n",
    "* -N maker_run_ud sets the project name to wq_test_{USER}. This is mandatory if we need to run WQ-MAKER. \n",
    "* -d all Sets the debug flag for Work Queue. For all debugging output, try 'all'\n",
    "* -o master.dbg Sets the debug file for Work Queue\n",
    "* -debug_size_limit=0 Sets the byte wrap around on the debug file. 0 signifies it is never wrapped (Default it 1M)\n",
    "* -stats test_out_stats.txt Specifies the file were Work Queue master stats are written\n",
    "* log_file.txt captures the stdout"
   ]
  },
  {
   "cell_type": "markdown",
   "metadata": {},
   "source": [
    "It takes 5-10 minutes (depending on the genome size) for the MASTER to advertise master status to the catalog server before your run WQ-MAKER on the WORKERS. To check if the MASTER has advertised master status to the catalog server you can run"
   ]
  },
  {
   "cell_type": "code",
   "execution_count": 13,
   "metadata": {
    "collapsed": false
   },
   "outputs": [
    {
     "name": "stdout",
     "output_type": "stream",
     "text": [
      "Fri Oct 20 17:27:14 2017 :: Submitting file ./test_data/test_genome.fasta_000003 for processing.\r\n",
      "Fri Oct 20 17:27:14 2017 :: Submitted task 9 for annotating ./test_data/test_genome.fasta_000003 with command:  maker -g ./test_data/test_genome.fasta_000003 -base test_genome -debug_size_limit=0\r\n",
      "Fri Oct 20 17:27:14 2017 :: Submitting file ./test_data/test_genome.fasta_000004 for processing.\r\n",
      "Fri Oct 20 17:27:14 2017 :: Submitted task 10 for annotating ./test_data/test_genome.fasta_000004 with command:  maker -g ./test_data/test_genome.fasta_000004 -base test_genome -debug_size_limit=0\r\n",
      "Fri Oct 20 17:27:14 2017 :: Submitting file ./test_data/test_genome.fasta_000001 for processing.\r\n",
      "Fri Oct 20 17:27:14 2017 :: Submitted task 11 for annotating ./test_data/test_genome.fasta_000001 with command:  maker -g ./test_data/test_genome.fasta_000001 -base test_genome -debug_size_limit=0\r\n",
      "Fri Oct 20 17:27:14 2017 :: Submitting file ./test_data/test_genome.fasta_000011 for processing.\r\n",
      "Fri Oct 20 17:27:14 2017 :: Submitted task 12 for annotating ./test_data/test_genome.fasta_000011 with command:  maker -g ./test_data/test_genome.fasta_000011 -base test_genome -debug_size_limit=0\r\n",
      "warning: this work queue master is visible to the public.\r\n",
      "warning: you should set a password with the --password option.\r\n"
     ]
    }
   ],
   "source": [
    "!tail log_file"
   ]
  },
  {
   "cell_type": "markdown",
   "metadata": {},
   "source": [
    "When you see these two lines you can start running jobs on WORKERS\n",
    "\n",
    "`warning: this work queue master is visible to the public.\n",
    "warning: you should set a password with the --password option.`"
   ]
  },
  {
   "cell_type": "markdown",
   "metadata": {},
   "source": [
    "### Step 7.  Run WQ-MAKER on WORKERS"
   ]
  },
  {
   "cell_type": "markdown",
   "metadata": {},
   "source": [
    "For running WQ-MAKER on WORKERS you need three files. \n",
    "* Ansible config file\n",
    "* Maker hostes file\n",
    "* Ansible playbook"
   ]
  },
  {
   "cell_type": "markdown",
   "metadata": {},
   "source": [
    "\\1. Copy *ansible.cfg* file into your home directory which will help you to avoid host verification"
   ]
  },
  {
   "cell_type": "code",
   "execution_count": 14,
   "metadata": {
    "collapsed": false
   },
   "outputs": [],
   "source": [
    "!cp /opt/WQ-MAKER_example_data/.ansible.cfg ~"
   ]
  },
  {
   "cell_type": "code",
   "execution_count": 15,
   "metadata": {
    "collapsed": false
   },
   "outputs": [
    {
     "name": "stdout",
     "output_type": "stream",
     "text": [
      "[defaults]\r\n",
      "host_key_checking = False\r\n"
     ]
    }
   ],
   "source": [
    "!cat ~/.ansible.cfg"
   ]
  },
  {
   "cell_type": "markdown",
   "metadata": {},
   "source": [
    "\\2. Copy `maker-hosts` file into your working directory and populate it with ip addresses of the workers"
   ]
  },
  {
   "cell_type": "code",
   "execution_count": 16,
   "metadata": {
    "collapsed": true
   },
   "outputs": [],
   "source": [
    "!cp /opt/WQ-MAKER_example_data/maker-hosts .\n",
    "!echo \"149.165.169.21\" >> maker-hosts # This ip address is specific to my account. This will not work for you\n",
    "!echo \"149.165.169.78\" >> maker-hosts # This ip address is specific to my account. This will not work for you"
   ]
  },
  {
   "cell_type": "code",
   "execution_count": 17,
   "metadata": {
    "collapsed": false
   },
   "outputs": [
    {
     "name": "stdout",
     "output_type": "stream",
     "text": [
      "[workers]\r\n",
      "149.165.169.21\r\n",
      "149.165.169.78\r\n"
     ]
    }
   ],
   "source": [
    "!cat maker-hosts"
   ]
  },
  {
   "cell_type": "markdown",
   "metadata": {},
   "source": [
    "\\3.Copy the Ansible playbook to your working directory"
   ]
  },
  {
   "cell_type": "code",
   "execution_count": 18,
   "metadata": {
    "collapsed": true
   },
   "outputs": [],
   "source": [
    "!cp /opt/WQ-MAKER_example_data/worker-launch.yml ."
   ]
  },
  {
   "cell_type": "code",
   "execution_count": 19,
   "metadata": {
    "collapsed": false
   },
   "outputs": [
    {
     "name": "stdout",
     "output_type": "stream",
     "text": [
      "---\r\n",
      "- hosts : workers\r\n",
      "  environment:\r\n",
      "    PATH: \"{{ ansible_env.PATH }}:/home/${USER}/bin:/home/${USER}/.local/bin:/opt/icommands:/opt/icommands:/opt/exonerate-2.2.0-x86_64/bin/:/opt/cctools/bin:/opt/ncbi-blast-2.6.0+/bin/:/opt/snoscan-0.9.1/:/opt/tRNAscan-SE-1.3.1/:/opt/snap/:/usr/local/sbin:/usr/local/bin:/usr/sbin:/usr/bin:/sbin:/bin:/usr/games:/usr/local/games:/snap/bin:/opt/augustus-3.2.2/bin:/opt/maker/bin:/opt/RepeatMasker:/opt/snap\"\r\n",
      "    PERL5LIB: \"/opt/tRNAscan-SE-1.3.1::/opt/cctools/lib/perl5/site_perl\"\r\n",
      "  tasks :\r\n",
      "  - name : Execute the script\r\n",
      "    shell : /opt/cctools/bin/work_queue_worker -N wq_test_${USER} -s /home/${USER} --cores all --debug-rotate-max=0 -d all -o /home/${USER}/worker.dbg\r\n"
     ]
    }
   ],
   "source": [
    "!cat worker-launch.yml"
   ]
  },
  {
   "cell_type": "markdown",
   "metadata": {},
   "source": [
    "* -hosts is the name of the hosts (workers in this case. It can be anything)\n",
    "tasks is the task that need to be performed by the Ansible (In this case run work_queue_worker)\n",
    "name is just name of the task (It can be anything) \n",
    "* -N maker_run_test sets the project name to maker_run_test. This is mandatory if we need to run WQ-MAKER\n",
    "* -s /home/upendra/ Set the location for creating the working directory of the worker\n",
    "* --debug-rotate-max=0 Set the maximum size of the debug log (default 10M, 0 disables)\n",
    "* -d all Sets the debug flag for Work Queue. For all debugging output, try 'all'\n",
    "* -o worker.dbg Sets the debug file for Work Queue"
   ]
  },
  {
   "cell_type": "markdown",
   "metadata": {},
   "source": [
    "Run WQ-MAKER on the WORKERS now"
   ]
  },
  {
   "cell_type": "code",
   "execution_count": 20,
   "metadata": {
    "collapsed": false
   },
   "outputs": [
    {
     "data": {
      "text/plain": [
       "0"
      ]
     },
     "execution_count": 20,
     "metadata": {},
     "output_type": "execute_result"
    }
   ],
   "source": [
    "os.system(\"ansible-playbook -u ${USER} -i maker-hosts worker-launch.yml > log_file_2.txt 2>&1 &\")"
   ]
  },
  {
   "cell_type": "markdown",
   "metadata": {},
   "source": [
    "After 1-2 minutes check the status of the WQ-MAKER job, using the following command. "
   ]
  },
  {
   "cell_type": "code",
   "execution_count": 21,
   "metadata": {
    "collapsed": false
   },
   "outputs": [
    {
     "name": "stdout",
     "output_type": "stream",
     "text": [
      "PROJECT            HOST                   PORT WAITING RUNNING COMPLETE WORKERS \r\n",
      "wq_test_upendra    js-129-114-104-169.je  9155       0      12        0       2 \r\n"
     ]
    }
   ],
   "source": [
    "!work_queue_status -M wq_test_${USER}"
   ]
  },
  {
   "cell_type": "markdown",
   "metadata": {},
   "source": [
    "### Step 8. Stats output from MASTER instance "
   ]
  },
  {
   "cell_type": "code",
   "execution_count": 22,
   "metadata": {
    "collapsed": false
   },
   "outputs": [
    {
     "name": "stdout",
     "output_type": "stream",
     "text": [
      "Argument \"2.53_01\" isn't numeric in numeric ge (>=) at /usr/local/lib/x86_64-linux-gnu/perl/5.22.1/forks.pm line 1570.\r\n",
      "WQ_MAKER supports version 2.31.8. Current version : 2.31.9\r\n",
      "Argument \"2.53_01\" isn't numeric in numeric ge (>=) at /usr/local/lib/x86_64-linux-gnu/perl/5.22.1/forks.pm line 1570.\r\n",
      "Genome file not specified. Using the specification in the CTL files.\r\n",
      "Argument \"2.53_01\" isn't numeric in numeric ge (>=) at /usr/local/lib/x86_64-linux-gnu/perl/5.22.1/forks.pm line 1570.\r\n",
      "Unknown option: debug_size_limit\r\n",
      "STATUS: Parsing control files...\r\n",
      "STATUS: Processing and indexing input FASTA files...\r\n",
      "Contigs per split : 1\r\n",
      "Contigs found : 12\r\n",
      "Total number of input files : 12\r\n",
      "Argument \"2.53_01\" isn't numeric in numeric ge (>=) at /usr/local/lib/x86_64-linux-gnu/perl/5.22.1/forks.pm line 1570.\r\n",
      "STATUS: Parsing control files...\r\n",
      "STATUS: Processing and indexing input FASTA files...\r\n",
      "STATUS: Setting up database for any GFF3 input...\r\n",
      "A data structure will be created for you at:\r\n",
      "/vol_b/wq_maker_run/test_genome.maker.output/test_genome_datastore\r\n",
      "\r\n",
      "To access files for individual sequences use the datastore index:\r\n",
      "/vol_b/wq_maker_run/test_genome.maker.output/test_genome_master_datastore_index.log\r\n",
      "\r\n",
      "Use of uninitialized value in subroutine entry at /opt/cctools/bin/wq_maker line 300.\r\n",
      "Fri Oct 20 17:27:14 2017 :: Work Queue debug flags set :: all.\r\n",
      "Fri Oct 20 17:27:14 2017 :: Work Queue listening on port 9155.\r\n",
      "Fri Oct 20 17:27:14 2017 :: Work Queue project name set to wq_test_upendra.\r\n",
      "Fri Oct 20 17:27:14 2017 :: Submitting file ./test_data/test_genome.fasta_000006 for processing.\r\n",
      "Fri Oct 20 17:27:14 2017 :: Submitted task 1 for annotating ./test_data/test_genome.fasta_000006 with command:  maker -g ./test_data/test_genome.fasta_000006 -base test_genome -debug_size_limit=0\r\n",
      "Fri Oct 20 17:27:14 2017 :: Submitting file ./test_data/test_genome.fasta_000009 for processing.\r\n",
      "Fri Oct 20 17:27:14 2017 :: Submitted task 2 for annotating ./test_data/test_genome.fasta_000009 with command:  maker -g ./test_data/test_genome.fasta_000009 -base test_genome -debug_size_limit=0\r\n",
      "Fri Oct 20 17:27:14 2017 :: Submitting file ./test_data/test_genome.fasta_000007 for processing.\r\n",
      "Fri Oct 20 17:27:14 2017 :: Submitted task 3 for annotating ./test_data/test_genome.fasta_000007 with command:  maker -g ./test_data/test_genome.fasta_000007 -base test_genome -debug_size_limit=0\r\n",
      "Fri Oct 20 17:27:14 2017 :: Submitting file ./test_data/test_genome.fasta_000000 for processing.\r\n",
      "Fri Oct 20 17:27:14 2017 :: Submitted task 4 for annotating ./test_data/test_genome.fasta_000000 with command:  maker -g ./test_data/test_genome.fasta_000000 -base test_genome -debug_size_limit=0\r\n",
      "Fri Oct 20 17:27:14 2017 :: Submitting file ./test_data/test_genome.fasta_000010 for processing.\r\n",
      "Fri Oct 20 17:27:14 2017 :: Submitted task 5 for annotating ./test_data/test_genome.fasta_000010 with command:  maker -g ./test_data/test_genome.fasta_000010 -base test_genome -debug_size_limit=0\r\n",
      "Fri Oct 20 17:27:14 2017 :: Submitting file ./test_data/test_genome.fasta_000008 for processing.\r\n",
      "Fri Oct 20 17:27:14 2017 :: Submitted task 6 for annotating ./test_data/test_genome.fasta_000008 with command:  maker -g ./test_data/test_genome.fasta_000008 -base test_genome -debug_size_limit=0\r\n",
      "Fri Oct 20 17:27:14 2017 :: Submitting file ./test_data/test_genome.fasta_000005 for processing.\r\n",
      "Fri Oct 20 17:27:14 2017 :: Submitted task 7 for annotating ./test_data/test_genome.fasta_000005 with command:  maker -g ./test_data/test_genome.fasta_000005 -base test_genome -debug_size_limit=0\r\n",
      "Fri Oct 20 17:27:14 2017 :: Submitting file ./test_data/test_genome.fasta_000002 for processing.\r\n",
      "Fri Oct 20 17:27:14 2017 :: Submitted task 8 for annotating ./test_data/test_genome.fasta_000002 with command:  maker -g ./test_data/test_genome.fasta_000002 -base test_genome -debug_size_limit=0\r\n",
      "Fri Oct 20 17:27:14 2017 :: Submitting file ./test_data/test_genome.fasta_000003 for processing.\r\n",
      "Fri Oct 20 17:27:14 2017 :: Submitted task 9 for annotating ./test_data/test_genome.fasta_000003 with command:  maker -g ./test_data/test_genome.fasta_000003 -base test_genome -debug_size_limit=0\r\n",
      "Fri Oct 20 17:27:14 2017 :: Submitting file ./test_data/test_genome.fasta_000004 for processing.\r\n",
      "Fri Oct 20 17:27:14 2017 :: Submitted task 10 for annotating ./test_data/test_genome.fasta_000004 with command:  maker -g ./test_data/test_genome.fasta_000004 -base test_genome -debug_size_limit=0\r\n",
      "Fri Oct 20 17:27:14 2017 :: Submitting file ./test_data/test_genome.fasta_000001 for processing.\r\n",
      "Fri Oct 20 17:27:14 2017 :: Submitted task 11 for annotating ./test_data/test_genome.fasta_000001 with command:  maker -g ./test_data/test_genome.fasta_000001 -base test_genome -debug_size_limit=0\r\n",
      "Fri Oct 20 17:27:14 2017 :: Submitting file ./test_data/test_genome.fasta_000011 for processing.\r\n",
      "Fri Oct 20 17:27:14 2017 :: Submitted task 12 for annotating ./test_data/test_genome.fasta_000011 with command:  maker -g ./test_data/test_genome.fasta_000011 -base test_genome -debug_size_limit=0\r\n",
      "warning: this work queue master is visible to the public.\r\n",
      "warning: you should set a password with the --password option.\r\n",
      "Fri Oct 20 17:33:54 2017 :: Finished WQ task for tiers 12 with result 0.\r\n",
      "Fri Oct 20 17:33:54 2017 :: Retrieved 1 so far.\r\n",
      "Fri Oct 20 17:33:54 2017 :: Finished WQ task for tiers 6 with result 0.\r\n",
      "Fri Oct 20 17:33:54 2017 :: Retrieved 2 so far.\r\n",
      "Fri Oct 20 17:34:18 2017 :: Finished WQ task for tiers 1 with result 0.\r\n",
      "Fri Oct 20 17:34:18 2017 :: Retrieved 3 so far.\r\n",
      "Fri Oct 20 17:34:31 2017 :: Finished WQ task for tiers 5 with result 0.\r\n",
      "Fri Oct 20 17:34:31 2017 :: Retrieved 4 so far.\r\n",
      "Fri Oct 20 17:34:32 2017 :: Finished WQ task for tiers 7 with result 0.\r\n",
      "Fri Oct 20 17:34:32 2017 :: Retrieved 5 so far.\r\n",
      "Fri Oct 20 17:34:40 2017 :: Finished WQ task for tiers 9 with result 0.\r\n",
      "Fri Oct 20 17:34:40 2017 :: Retrieved 6 so far.\r\n",
      "Fri Oct 20 17:34:42 2017 :: Finished WQ task for tiers 8 with result 0.\r\n",
      "Fri Oct 20 17:34:42 2017 :: Retrieved 7 so far.\r\n",
      "Fri Oct 20 17:34:42 2017 :: Finished WQ task for tiers 11 with result 0.\r\n",
      "Fri Oct 20 17:34:42 2017 :: Retrieved 8 so far.\r\n",
      "Fri Oct 20 17:34:45 2017 :: Finished WQ task for tiers 10 with result 0.\r\n",
      "Fri Oct 20 17:34:45 2017 :: Retrieved 9 so far.\r\n",
      "Fri Oct 20 17:34:49 2017 :: Finished WQ task for tiers 4 with result 0.\r\n",
      "Fri Oct 20 17:34:49 2017 :: Retrieved 10 so far.\r\n",
      "Fri Oct 20 17:35:14 2017 :: Finished WQ task for tiers 2 with result 0.\r\n",
      "Fri Oct 20 17:35:14 2017 :: Retrieved 11 so far.\r\n",
      "Fri Oct 20 17:35:15 2017 :: Finished WQ task for tiers 3 with result 0.\r\n",
      "Fri Oct 20 17:35:15 2017 :: Retrieved 12 so far.\r\n",
      "Argument \"2.53_01\" isn't numeric in numeric ge (>=) at /usr/local/lib/x86_64-linux-gnu/perl/5.22.1/forks.pm line 1570.\r\n",
      "STATUS: Parsing control files...\r\n",
      "STATUS: Processing and indexing input FASTA files...\r\n",
      "STATUS: Setting up database for any GFF3 input...\r\n",
      "A data structure will be created for you at:\r\n",
      "/vol_b/wq_maker_run/test_genome.maker.output/test_genome_datastore\r\n",
      "\r\n",
      "To access files for individual sequences use the datastore index:\r\n",
      "/vol_b/wq_maker_run/test_genome.maker.output/test_genome_master_datastore_index.log\r\n",
      "\r\n",
      "\r\n",
      "Fri Oct 20 17:35:16 2017 :: File test_genome annotated :: 12 in total \r\n",
      "-----------------------------------------------------------------\r\n",
      "Type\tSuccess\tFailure\tAbandon\tTotal\r\n",
      "Tasks\t12\t0\t0\t12\r\n",
      "-----------------------------------------------------------------\r\n",
      "Workers:\tJoined\tRemoved\tIdled-Out\tLost\r\n",
      "2\t\t2\t0\t0\t\t0\r\n",
      "-----------------------------------------------------------------\r\n",
      "\r\n",
      "WQ-MAKER Start_time:\t1508538415000000\r\n",
      "WQ-MAKER End_time:\t1508538916000000\r\n",
      "WQ-MAKER Elapsed:\t0d 0:08:21.000000\r\n",
      "Work Queue Wall Time:\t0d 0:08:01.798908\r\n",
      "Cumulative Task Wall Time:\t0d 0:35:06.959490\r\n",
      "Cumulative Task Good Execute Time:\t0d 0:35:06.959490\r\n",
      "Work Queue Send Time:\t0d 0:00:31.614249\r\n",
      "Work Queue Receive Time:\t0d 0:00:08.008765\r\n",
      "-----------------------------------------------------------------\r\n",
      "Fri Oct 20 17:35:16 2017 :: MPI used :: Cores 1 :: Memory 2048 :: Disk 4096 \r\n",
      "-----------------------------------------------------------------\r\n"
     ]
    }
   ],
   "source": [
    "!cat log_file"
   ]
  },
  {
   "cell_type": "markdown",
   "metadata": {},
   "source": [
    "The following are the output files from WQ-MAKER "
   ]
  },
  {
   "cell_type": "code",
   "execution_count": 23,
   "metadata": {
    "collapsed": false
   },
   "outputs": [
    {
     "name": "stdout",
     "output_type": "stream",
     "text": [
      "maker_bopts.log  maker_opts.log  test_genome_datastore\r\n",
      "maker_exe.log\t mpi_blastdb\t test_genome_master_datastore_index.log\r\n"
     ]
    }
   ],
   "source": [
    "!ls test_genome.maker.output"
   ]
  },
  {
   "cell_type": "markdown",
   "metadata": {},
   "source": [
    "* The maker_opts.log, maker_exe.log, and maker_bopts.log files are logs of the control files used for this run of MAKER.\n",
    "* The mpi_blastdb directory contains FASTA indexes and BLAST database files created from the input EST, protein, and repeat databases.\n",
    "* test_genome_master_datastore_index.log contains information on both the run status of individual contigs and information on where individual contig data is stored.\n",
    "* The test_genome_datastore directory contains a set of subfolders, each containing the final MAKER output for individual contigs from the genomic fasta file."
   ]
  },
  {
   "cell_type": "markdown",
   "metadata": {},
   "source": [
    "Check the test_genome_master_datastore_index.log and task_outputs.txt to see if there were any failures:"
   ]
  },
  {
   "cell_type": "code",
   "execution_count": 24,
   "metadata": {
    "collapsed": false
   },
   "outputs": [
    {
     "name": "stdout",
     "output_type": "stream",
     "text": [
      "Chr1\ttest_genome_datastore/41/30/Chr1/\tSTARTED\r\n",
      "Chr10\ttest_genome_datastore/7C/72/Chr10/\tSTARTED\r\n",
      "Chr11\ttest_genome_datastore/1E/AA/Chr11/\tSTARTED\r\n",
      "Chr12\ttest_genome_datastore/1B/FA/Chr12/\tSTARTED\r\n",
      "Chr2\ttest_genome_datastore/E9/36/Chr2/\tSTARTED\r\n",
      "Chr3\ttest_genome_datastore/CC/EF/Chr3/\tSTARTED\r\n",
      "Chr4\ttest_genome_datastore/A3/11/Chr4/\tSTARTED\r\n",
      "Chr5\ttest_genome_datastore/8A/9B/Chr5/\tSTARTED\r\n",
      "Chr6\ttest_genome_datastore/13/44/Chr6/\tSTARTED\r\n",
      "Chr7\ttest_genome_datastore/91/B7/Chr7/\tSTARTED\r\n",
      "Chr8\ttest_genome_datastore/9A/9E/Chr8/\tSTARTED\r\n",
      "Chr9\ttest_genome_datastore/87/90/Chr9/\tSTARTED\r\n",
      "Chr1\ttest_genome_datastore/41/30/Chr1/\tFINISHED\r\n",
      "Chr10\ttest_genome_datastore/7C/72/Chr10/\tFINISHED\r\n",
      "Chr11\ttest_genome_datastore/1E/AA/Chr11/\tFINISHED\r\n",
      "Chr12\ttest_genome_datastore/1B/FA/Chr12/\tFINISHED\r\n",
      "Chr2\ttest_genome_datastore/E9/36/Chr2/\tFINISHED\r\n",
      "Chr3\ttest_genome_datastore/CC/EF/Chr3/\tFINISHED\r\n",
      "Chr4\ttest_genome_datastore/A3/11/Chr4/\tFINISHED\r\n",
      "Chr5\ttest_genome_datastore/8A/9B/Chr5/\tFINISHED\r\n",
      "Chr6\ttest_genome_datastore/13/44/Chr6/\tFINISHED\r\n",
      "Chr7\ttest_genome_datastore/91/B7/Chr7/\tFINISHED\r\n",
      "Chr8\ttest_genome_datastore/9A/9E/Chr8/\tFINISHED\r\n",
      "Chr9\ttest_genome_datastore/87/90/Chr9/\tFINISHED\r\n"
     ]
    }
   ],
   "source": [
    "!cat test_genome.maker.output/test_genome_master_datastore_index.log"
   ]
  },
  {
   "cell_type": "markdown",
   "metadata": {},
   "source": [
    "All completed.  Other possible status entries include:\n",
    "\n",
    "**FAILED** - indicates a failed run on this contig, MAKER will retry these\n",
    "\n",
    "**RETRY** - indicates that MAKER is retrying a contig that failed\n",
    "\n",
    "**SKIPPED_SMALL** - indicates the contig was too short to annotate (minimum contig length is specified in maker_opt.ctl)\n",
    "\n",
    "**DIED_SKIPPED_PERMANENT** - indicates a failed contig that MAKER will not attempt to retry (number of times to retry a contig is specified in maker_opt.ctl)"
   ]
  },
  {
   "cell_type": "markdown",
   "metadata": {},
   "source": [
    "The actual output data is stored in in nested set of directories under* test_genome_datastore* in a nested directory structure. A typical set of outputs for a contig looks like this:"
   ]
  },
  {
   "cell_type": "code",
   "execution_count": 25,
   "metadata": {
    "collapsed": false,
    "scrolled": true
   },
   "outputs": [
    {
     "name": "stdout",
     "output_type": "stream",
     "text": [
      "test_genome.maker.output/test_genome_datastore/13/44/Chr6:\r\n",
      "Chr6.gff\t\t   Chr6.maker.snoscan.transcripts.fasta  run.log\r\n",
      "Chr6.maker.proteins.fasta  Chr6.maker.transcripts.fasta\t\t theVoid.Chr6\r\n",
      "\r\n",
      "test_genome.maker.output/test_genome_datastore/1B/FA/Chr12:\r\n",
      "Chr12.gff\t\t\t       Chr12.maker.transcripts.fasta\r\n",
      "Chr12.maker.proteins.fasta\t       run.log\r\n",
      "Chr12.maker.snoscan.transcripts.fasta  theVoid.Chr12\r\n",
      "\r\n",
      "test_genome.maker.output/test_genome_datastore/1E/AA/Chr11:\r\n",
      "Chr11.gff\t\t\t       Chr11.maker.transcripts.fasta\r\n",
      "Chr11.maker.proteins.fasta\t       run.log\r\n",
      "Chr11.maker.snoscan.transcripts.fasta  theVoid.Chr11\r\n",
      "\r\n",
      "test_genome.maker.output/test_genome_datastore/41/30/Chr1:\r\n",
      "Chr1.gff\t\t   Chr1.maker.snoscan.transcripts.fasta  run.log\r\n",
      "Chr1.maker.proteins.fasta  Chr1.maker.transcripts.fasta\t\t theVoid.Chr1\r\n",
      "\r\n",
      "test_genome.maker.output/test_genome_datastore/7C/72/Chr10:\r\n",
      "Chr10.gff\t\t\t       Chr10.maker.transcripts.fasta\r\n",
      "Chr10.maker.proteins.fasta\t       run.log\r\n",
      "Chr10.maker.snoscan.transcripts.fasta  theVoid.Chr10\r\n",
      "\r\n",
      "test_genome.maker.output/test_genome_datastore/87/90/Chr9:\r\n",
      "Chr9.gff  Chr9.maker.snoscan.transcripts.fasta\trun.log  theVoid.Chr9\r\n",
      "\r\n",
      "test_genome.maker.output/test_genome_datastore/8A/9B/Chr5:\r\n",
      "Chr5.gff\t\t   Chr5.maker.snoscan.transcripts.fasta  run.log\r\n",
      "Chr5.maker.proteins.fasta  Chr5.maker.transcripts.fasta\t\t theVoid.Chr5\r\n",
      "\r\n",
      "test_genome.maker.output/test_genome_datastore/91/B7/Chr7:\r\n",
      "Chr7.gff\t\t   Chr7.maker.snoscan.transcripts.fasta  run.log\r\n",
      "Chr7.maker.proteins.fasta  Chr7.maker.transcripts.fasta\t\t theVoid.Chr7\r\n",
      "\r\n",
      "test_genome.maker.output/test_genome_datastore/9A/9E/Chr8:\r\n",
      "Chr8.gff\t\t\t      Chr8.maker.trnascan.transcripts.fasta\r\n",
      "Chr8.maker.proteins.fasta\t      run.log\r\n",
      "Chr8.maker.snoscan.transcripts.fasta  theVoid.Chr8\r\n",
      "Chr8.maker.transcripts.fasta\r\n",
      "\r\n",
      "test_genome.maker.output/test_genome_datastore/A3/11/Chr4:\r\n",
      "Chr4.gff\t\t   Chr4.maker.snoscan.transcripts.fasta  run.log\r\n",
      "Chr4.maker.proteins.fasta  Chr4.maker.transcripts.fasta\t\t theVoid.Chr4\r\n",
      "\r\n",
      "test_genome.maker.output/test_genome_datastore/CC/EF/Chr3:\r\n",
      "Chr3.gff\t\t   Chr3.maker.snoscan.transcripts.fasta  run.log\r\n",
      "Chr3.maker.proteins.fasta  Chr3.maker.transcripts.fasta\t\t theVoid.Chr3\r\n",
      "\r\n",
      "test_genome.maker.output/test_genome_datastore/E9/36/Chr2:\r\n",
      "Chr2.gff\t\t   Chr2.maker.snoscan.transcripts.fasta  run.log\r\n",
      "Chr2.maker.proteins.fasta  Chr2.maker.transcripts.fasta\t\t theVoid.Chr2\r\n"
     ]
    }
   ],
   "source": [
    "!ls test_genome.maker.output/test_genome_datastore/*/*/*"
   ]
  },
  {
   "cell_type": "markdown",
   "metadata": {},
   "source": [
    "* The Chr6.gff file is in GFF3 format and contains the maker gene models and underlying evidence such as repeat regions, alignment data, and ab initio gene predictions, as well as fasta sequence.  Having all of these data in one file is important to enable visualization of the called gene models and underlying evidence, especially using tools like Apollo which enable manual editing and curation of gene models.\n",
    "* The fasta files Chr6.maker.proteins.fasta and Chr6.maker.transcripts.fasta contain the protein and transcript sequences for the final MAKER gene calls.\n",
    "* The Chr6.maker.non_overlapping_ab_initio.proteins.fasta and Chr6.maker.non_overlapping_ab_initio.transcripts.fasta files are models that don't overlap MAKER genes that were rejected for lack of support.\n",
    "* The Chr6.maker.snap_masked.proteins.fasta and Chr6.maker.snap_masked.transcript.fasta are the initial SNAP predicted models not further processed by MAKER"
   ]
  },
  {
   "cell_type": "markdown",
   "metadata": {},
   "source": [
    "The output directory **theVoid.Chr1** contains raw output data from all of the pipeline steps. One useful file found here is the repeat-masked version of the contig, query.masked.fasta."
   ]
  },
  {
   "cell_type": "markdown",
   "metadata": {},
   "source": [
    "### Step 9: Merge the gff files"
   ]
  },
  {
   "cell_type": "code",
   "execution_count": 26,
   "metadata": {
    "collapsed": false
   },
   "outputs": [
    {
     "name": "stdout",
     "output_type": "stream",
     "text": [
      "/vol_b/wq_maker_run/test_genome.maker.output\n"
     ]
    }
   ],
   "source": [
    "%cd test_genome.maker.output/\n",
    "!gff3_merge -n -d test_genome_master_datastore_index.log"
   ]
  },
  {
   "cell_type": "markdown",
   "metadata": {},
   "source": [
    "* -d The location of the MAKER datastore index log file.\n",
    "* -n Do not print fasta sequence in footer"
   ]
  },
  {
   "cell_type": "markdown",
   "metadata": {},
   "source": [
    "The final output from gff3_merge is **\"test_genome.all.gff\"**"
   ]
  },
  {
   "cell_type": "code",
   "execution_count": 27,
   "metadata": {
    "collapsed": false
   },
   "outputs": [
    {
     "name": "stdout",
     "output_type": "stream",
     "text": [
      "##gff-version 3\r\n",
      "Chr6\t.\tcontig\t1\t100000\t.\t.\t.\tID=Chr6;Name=Chr6\r\n",
      "Chr6\tmaker\tgene\t33943\t37124\t.\t+\t.\tID=maker-Chr6-exonerate_protein2genome-gene-0.0;Name=maker-Chr6-exonerate_protein2genome-gene-0.0\r\n",
      "Chr6\tmaker\tmRNA\t33943\t37124\t453\t+\t.\tID=maker-Chr6-exonerate_protein2genome-gene-0.0-mRNA-1;Parent=maker-Chr6-exonerate_protein2genome-gene-0.0;Name=maker-Chr6-exonerate_protein2genome-gene-0.0-mRNA-1;_AED=0.23;_eAED=0.23;_QI=0|0|0|1|0|0|5|0|150\r\n",
      "Chr6\tmaker\texon\t33943\t33981\t.\t+\t.\tID=maker-Chr6-exonerate_protein2genome-gene-0.0-mRNA-1:exon:0;Parent=maker-Chr6-exonerate_protein2genome-gene-0.0-mRNA-1\r\n",
      "Chr6\tmaker\texon\t34283\t34350\t.\t+\t.\tID=maker-Chr6-exonerate_protein2genome-gene-0.0-mRNA-1:exon:1;Parent=maker-Chr6-exonerate_protein2genome-gene-0.0-mRNA-1\r\n",
      "Chr6\tmaker\texon\t34749\t34907\t.\t+\t.\tID=maker-Chr6-exonerate_protein2genome-gene-0.0-mRNA-1:exon:2;Parent=maker-Chr6-exonerate_protein2genome-gene-0.0-mRNA-1\r\n",
      "Chr6\tmaker\texon\t35977\t36055\t.\t+\t.\tID=maker-Chr6-exonerate_protein2genome-gene-0.0-mRNA-1:exon:3;Parent=maker-Chr6-exonerate_protein2genome-gene-0.0-mRNA-1\r\n",
      "Chr6\tmaker\texon\t37017\t37124\t.\t+\t.\tID=maker-Chr6-exonerate_protein2genome-gene-0.0-mRNA-1:exon:4;Parent=maker-Chr6-exonerate_protein2genome-gene-0.0-mRNA-1\r\n",
      "Chr6\tmaker\tCDS\t33943\t33981\t.\t+\t0\tID=maker-Chr6-exonerate_protein2genome-gene-0.0-mRNA-1:cds;Parent=maker-Chr6-exonerate_protein2genome-gene-0.0-mRNA-1\r\n"
     ]
    }
   ],
   "source": [
    "!head test_genome.all.gff"
   ]
  },
  {
   "cell_type": "markdown",
   "metadata": {},
   "source": [
    "## Moving data from CyVerse Datastore using iCommands"
   ]
  },
  {
   "cell_type": "markdown",
   "metadata": {},
   "source": [
    "iCommands is a collection of commands for Linux and Mac OS operating systems that are used in the iRODS system to interact with the CyVerse Data Store. Many commands are very similar to Unix utilities. For example, to list files and directories, in Linux you use ls, but in iCommands you use `ils`.\n",
    "\n",
    "While iCommands are great for all transfers and for automating tasks via scripts, they are the best choice for large files (2-100 GB each) and for bulk file transfers (many small files). For a comparison of the different methods of uploading and downloading data items, see [Downloading and Uploading Data](https://pods.iplantcollaborative.org/wiki/display/DS/Downloading+and+Uploading+Data).\n",
    "\n",
    "iCommands can be used by CyVerse account users to download files that have been shared by other users and to upload files to the Data Store, as well as [add metadata](https://wiki.cyverse.org/wiki/display/DS/Adding+Metadata+to+a+File+Using+iRODS+imeta+%28Metadata%29+Commands), change permissions, and more. Commonly used iCommands are listed below. Follow the instructions on [Setting Up iCommands](https://wiki.cyverse.org/wiki/display/DS/Setting+Up+iCommands) for how to download and configure iCommands for your operating system.\n",
    "\n",
    "**A CyVerse account is not required to download a public data file via iCommands**. To see instructions just for public data download with iCommands, see the iCommands section on Downloading Data Files Without a User Account."
   ]
  }
 ],
 "metadata": {
  "kernelspec": {
   "display_name": "Python 3",
   "language": "python",
   "name": "python3"
  },
  "language_info": {
   "codemirror_mode": {
    "name": "ipython",
    "version": 3
   },
   "file_extension": ".py",
   "mimetype": "text/x-python",
   "name": "python",
   "nbconvert_exporter": "python",
   "pygments_lexer": "ipython3",
   "version": "3.6.0"
  }
 },
 "nbformat": 4,
 "nbformat_minor": 2
}
