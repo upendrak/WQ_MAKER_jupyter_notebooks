{
 "cells": [
  {
   "cell_type": "code",
   "execution_count": null,
   "metadata": {
    "collapsed": true
   },
   "outputs": [],
   "source": []
  },
  {
   "cell_type": "code",
   "execution_count": null,
   "metadata": {
    "collapsed": true
   },
   "outputs": [],
   "source": []
  },
  {
   "cell_type": "code",
   "execution_count": null,
   "metadata": {
    "collapsed": true
   },
   "outputs": [],
   "source": []
  },
  {
   "cell_type": "code",
   "execution_count": null,
   "metadata": {
    "collapsed": true
   },
   "outputs": [],
   "source": []
  },
  {
   "cell_type": "code",
   "execution_count": null,
   "metadata": {
    "collapsed": true
   },
   "outputs": [],
   "source": []
  },
  {
   "cell_type": "code",
   "execution_count": null,
   "metadata": {
    "collapsed": true
   },
   "outputs": [],
   "source": []
  },
  {
   "cell_type": "code",
   "execution_count": null,
   "metadata": {
    "collapsed": true
   },
   "outputs": [],
   "source": []
  },
  {
   "cell_type": "code",
   "execution_count": null,
   "metadata": {
    "collapsed": true
   },
   "outputs": [],
   "source": []
  },
  {
   "cell_type": "code",
   "execution_count": null,
   "metadata": {
    "collapsed": true
   },
   "outputs": [],
   "source": []
  },
  {
   "cell_type": "code",
   "execution_count": null,
   "metadata": {
    "collapsed": true
   },
   "outputs": [],
   "source": []
  },
  {
   "cell_type": "code",
   "execution_count": null,
   "metadata": {
    "collapsed": true
   },
   "outputs": [],
   "source": []
  },
  {
   "cell_type": "code",
   "execution_count": null,
   "metadata": {
    "collapsed": true
   },
   "outputs": [],
   "source": []
  },
  {
   "cell_type": "code",
   "execution_count": null,
   "metadata": {
    "collapsed": true
   },
   "outputs": [],
   "source": []
  },
  {
   "cell_type": "code",
   "execution_count": null,
   "metadata": {
    "collapsed": true
   },
   "outputs": [],
   "source": []
  },
  {
   "cell_type": "code",
   "execution_count": null,
   "metadata": {
    "collapsed": true
   },
   "outputs": [],
   "source": []
  },
  {
   "cell_type": "code",
   "execution_count": null,
   "metadata": {
    "collapsed": true
   },
   "outputs": [],
   "source": []
  },
  {
   "cell_type": "code",
   "execution_count": 9,
   "metadata": {
    "collapsed": false
   },
   "outputs": [
    {
     "name": "stdout",
     "output_type": "stream",
     "text": [
      "Anderson_genome_WQ_MAKER_run.ipynb  WQ-MAKER-bash-Jupyter-notebook.ipynb\r\n",
      "maker_wq.stats                      WQ-MAKER-Jupyter-notebook-demo.ipynb\r\n",
      "test.ipynb                          WQ-MAKER-Jupyternotebook-matplotlib.ipynb\r\n",
      "Untitled.ipynb\r\n"
     ]
    }
   ],
   "source": [
    "ls"
   ]
  },
  {
   "cell_type": "code",
   "execution_count": 11,
   "metadata": {
    "collapsed": false
   },
   "outputs": [],
   "source": [
    "!sed 's/# //' maker_wq.stats > temp && mv temp maker_wq.stats"
   ]
  },
  {
   "cell_type": "code",
   "execution_count": 12,
   "metadata": {
    "collapsed": true
   },
   "outputs": [],
   "source": [
    "import pandas as pd\n",
    "df = pd.read_csv(\"maker_wq.stats\", sep=\" \")"
   ]
  },
  {
   "cell_type": "code",
   "execution_count": 13,
   "metadata": {
    "collapsed": false
   },
   "outputs": [
    {
     "data": {
      "text/html": [
       "<div>\n",
       "<style>\n",
       "    .dataframe thead tr:only-child th {\n",
       "        text-align: right;\n",
       "    }\n",
       "\n",
       "    .dataframe thead th {\n",
       "        text-align: left;\n",
       "    }\n",
       "\n",
       "    .dataframe tbody tr th {\n",
       "        vertical-align: top;\n",
       "    }\n",
       "</style>\n",
       "<table border=\"1\" class=\"dataframe\">\n",
       "  <thead>\n",
       "    <tr style=\"text-align: right;\">\n",
       "      <th></th>\n",
       "      <th>timestamp</th>\n",
       "      <th>workers_connected</th>\n",
       "      <th>workers_init</th>\n",
       "      <th>workers_idle</th>\n",
       "      <th>workers_busy</th>\n",
       "      <th>workers_able</th>\n",
       "      <th>workers_joined</th>\n",
       "      <th>workers_removed</th>\n",
       "      <th>workers_released</th>\n",
       "      <th>workers_idled_out</th>\n",
       "      <th>...</th>\n",
       "      <th>total_disk</th>\n",
       "      <th>committed_cores</th>\n",
       "      <th>committed_memory</th>\n",
       "      <th>committed_disk</th>\n",
       "      <th>max_cores</th>\n",
       "      <th>max_memory</th>\n",
       "      <th>max_disk</th>\n",
       "      <th>min_cores</th>\n",
       "      <th>min_memory</th>\n",
       "      <th>min_disk</th>\n",
       "    </tr>\n",
       "  </thead>\n",
       "  <tbody>\n",
       "    <tr>\n",
       "      <th>0</th>\n",
       "      <td>1508872828736772</td>\n",
       "      <td>0</td>\n",
       "      <td>0</td>\n",
       "      <td>0</td>\n",
       "      <td>0</td>\n",
       "      <td>0</td>\n",
       "      <td>0</td>\n",
       "      <td>0</td>\n",
       "      <td>0</td>\n",
       "      <td>0</td>\n",
       "      <td>...</td>\n",
       "      <td>0</td>\n",
       "      <td>0</td>\n",
       "      <td>0</td>\n",
       "      <td>0</td>\n",
       "      <td>0</td>\n",
       "      <td>0</td>\n",
       "      <td>0</td>\n",
       "      <td>0</td>\n",
       "      <td>0</td>\n",
       "      <td>0</td>\n",
       "    </tr>\n",
       "    <tr>\n",
       "      <th>1</th>\n",
       "      <td>1508873206004820</td>\n",
       "      <td>2</td>\n",
       "      <td>0</td>\n",
       "      <td>0</td>\n",
       "      <td>2</td>\n",
       "      <td>2</td>\n",
       "      <td>2</td>\n",
       "      <td>0</td>\n",
       "      <td>0</td>\n",
       "      <td>0</td>\n",
       "      <td>...</td>\n",
       "      <td>96930</td>\n",
       "      <td>6</td>\n",
       "      <td>25776</td>\n",
       "      <td>50352</td>\n",
       "      <td>6</td>\n",
       "      <td>15947</td>\n",
       "      <td>48465</td>\n",
       "      <td>0</td>\n",
       "      <td>0</td>\n",
       "      <td>0</td>\n",
       "    </tr>\n",
       "    <tr>\n",
       "      <th>2</th>\n",
       "      <td>1508873328517582</td>\n",
       "      <td>2</td>\n",
       "      <td>0</td>\n",
       "      <td>0</td>\n",
       "      <td>2</td>\n",
       "      <td>2</td>\n",
       "      <td>2</td>\n",
       "      <td>0</td>\n",
       "      <td>0</td>\n",
       "      <td>0</td>\n",
       "      <td>...</td>\n",
       "      <td>96930</td>\n",
       "      <td>5</td>\n",
       "      <td>21480</td>\n",
       "      <td>41960</td>\n",
       "      <td>6</td>\n",
       "      <td>15947</td>\n",
       "      <td>48465</td>\n",
       "      <td>0</td>\n",
       "      <td>0</td>\n",
       "      <td>0</td>\n",
       "    </tr>\n",
       "    <tr>\n",
       "      <th>3</th>\n",
       "      <td>1508873334002297</td>\n",
       "      <td>2</td>\n",
       "      <td>0</td>\n",
       "      <td>0</td>\n",
       "      <td>2</td>\n",
       "      <td>2</td>\n",
       "      <td>2</td>\n",
       "      <td>0</td>\n",
       "      <td>0</td>\n",
       "      <td>0</td>\n",
       "      <td>...</td>\n",
       "      <td>96930</td>\n",
       "      <td>6</td>\n",
       "      <td>25776</td>\n",
       "      <td>50352</td>\n",
       "      <td>6</td>\n",
       "      <td>15947</td>\n",
       "      <td>48465</td>\n",
       "      <td>0</td>\n",
       "      <td>0</td>\n",
       "      <td>0</td>\n",
       "    </tr>\n",
       "    <tr>\n",
       "      <th>4</th>\n",
       "      <td>1508873346671405</td>\n",
       "      <td>2</td>\n",
       "      <td>0</td>\n",
       "      <td>0</td>\n",
       "      <td>2</td>\n",
       "      <td>2</td>\n",
       "      <td>2</td>\n",
       "      <td>0</td>\n",
       "      <td>0</td>\n",
       "      <td>0</td>\n",
       "      <td>...</td>\n",
       "      <td>96930</td>\n",
       "      <td>5</td>\n",
       "      <td>21480</td>\n",
       "      <td>41960</td>\n",
       "      <td>6</td>\n",
       "      <td>15947</td>\n",
       "      <td>48465</td>\n",
       "      <td>0</td>\n",
       "      <td>0</td>\n",
       "      <td>0</td>\n",
       "    </tr>\n",
       "  </tbody>\n",
       "</table>\n",
       "<p>5 rows × 54 columns</p>\n",
       "</div>"
      ],
      "text/plain": [
       "          timestamp  workers_connected  workers_init  workers_idle  \\\n",
       "0  1508872828736772                  0             0             0   \n",
       "1  1508873206004820                  2             0             0   \n",
       "2  1508873328517582                  2             0             0   \n",
       "3  1508873334002297                  2             0             0   \n",
       "4  1508873346671405                  2             0             0   \n",
       "\n",
       "   workers_busy  workers_able  workers_joined  workers_removed  \\\n",
       "0             0             0               0                0   \n",
       "1             2             2               2                0   \n",
       "2             2             2               2                0   \n",
       "3             2             2               2                0   \n",
       "4             2             2               2                0   \n",
       "\n",
       "   workers_released  workers_idled_out    ...     total_disk  committed_cores  \\\n",
       "0                 0                  0    ...              0                0   \n",
       "1                 0                  0    ...          96930                6   \n",
       "2                 0                  0    ...          96930                5   \n",
       "3                 0                  0    ...          96930                6   \n",
       "4                 0                  0    ...          96930                5   \n",
       "\n",
       "   committed_memory  committed_disk  max_cores  max_memory  max_disk  \\\n",
       "0                 0               0          0           0         0   \n",
       "1             25776           50352          6       15947     48465   \n",
       "2             21480           41960          6       15947     48465   \n",
       "3             25776           50352          6       15947     48465   \n",
       "4             21480           41960          6       15947     48465   \n",
       "\n",
       "   min_cores  min_memory  min_disk  \n",
       "0          0           0         0  \n",
       "1          0           0         0  \n",
       "2          0           0         0  \n",
       "3          0           0         0  \n",
       "4          0           0         0  \n",
       "\n",
       "[5 rows x 54 columns]"
      ]
     },
     "execution_count": 13,
     "metadata": {},
     "output_type": "execute_result"
    }
   ],
   "source": [
    "df.head()"
   ]
  },
  {
   "cell_type": "code",
   "execution_count": 14,
   "metadata": {
    "collapsed": false
   },
   "outputs": [],
   "source": [
    "%matplotlib inline\n",
    "import matplotlib.pyplot as plt"
   ]
  },
  {
   "cell_type": "code",
   "execution_count": 17,
   "metadata": {
    "collapsed": false
   },
   "outputs": [
    {
     "data": {
      "text/plain": [
       "Index([u'timestamp', u'workers_connected', u'workers_init', u'workers_idle',\n",
       "       u'workers_busy', u'workers_able', u'workers_joined', u'workers_removed',\n",
       "       u'workers_released', u'workers_idled_out', u'workers_blacklisted',\n",
       "       u'workers_fast_aborted', u'workers_lost', u'tasks_waiting',\n",
       "       u'tasks_on_workers', u'tasks_running', u'tasks_with_results',\n",
       "       u'tasks_submitted', u'tasks_dispatched', u'tasks_done', u'tasks_failed',\n",
       "       u'tasks_cancelled', u'tasks_exhausted_attempts', u'time_when_started',\n",
       "       u'time_send', u'time_receive', u'time_send_good', u'time_receive_good',\n",
       "       u'time_status_msgs', u'time_internal', u'time_polling',\n",
       "       u'time_application', u'time_execute', u'time_execute_good',\n",
       "       u'time_execute_exhaustion', u'bytes_sent', u'bytes_received',\n",
       "       u'bandwidth', u'capacity_tasks', u'capacity_cores', u'capacity_memory',\n",
       "       u'capacity_disk', u'total_cores', u'total_memory', u'total_disk',\n",
       "       u'committed_cores', u'committed_memory', u'committed_disk',\n",
       "       u'max_cores', u'max_memory', u'max_disk', u'min_cores', u'min_memory',\n",
       "       u'min_disk'],\n",
       "      dtype='object')"
      ]
     },
     "execution_count": 17,
     "metadata": {},
     "output_type": "execute_result"
    }
   ],
   "source": [
    "df.columns"
   ]
  },
  {
   "cell_type": "code",
   "execution_count": 18,
   "metadata": {
    "collapsed": false
   },
   "outputs": [
    {
     "data": {
      "text/plain": [
       "Text(0,0.5,u'workers_connected')"
      ]
     },
     "execution_count": 18,
     "metadata": {},
     "output_type": "execute_result"
    },
    {
     "data": {
      "image/png": "[encoded data removed]",
      "text/plain": [
       "<matplotlib.figure.Figure at 0x7f1ace0bc350>"
      ]
     },
     "metadata": {},
     "output_type": "display_data"
    }
   ],
   "source": [
    "plt.plot(df[['timestamp']], df[['workers_connected']])\n",
    "plt.xlabel('Time')\n",
    "plt.ylabel('workers_connected')"
   ]
  },
  {
   "cell_type": "code",
   "execution_count": 19,
   "metadata": {
    "collapsed": false
   },
   "outputs": [
    {
     "data": {
      "text/plain": [
       "Text(0,0.5,u'committed_cores')"
      ]
     },
     "execution_count": 19,
     "metadata": {},
     "output_type": "execute_result"
    },
    {
     "data": {
      "image/png": "[encoded data removed]",
      "text/plain": [
       "<matplotlib.figure.Figure at 0x7f1ace0bc650>"
      ]
     },
     "metadata": {},
     "output_type": "display_data"
    }
   ],
   "source": [
    "plt.plot(df[['timestamp']], df[['committed_cores']])\n",
    "plt.xlabel('Time')\n",
    "plt.ylabel('committed_cores')"
   ]
  },
  {
   "cell_type": "code",
   "execution_count": null,
   "metadata": {
    "collapsed": true
   },
   "outputs": [],
   "source": []
  }
 ],
 "metadata": {
  "kernelspec": {
   "display_name": "Python 2",
   "language": "python",
   "name": "python2"
  },
  "language_info": {
   "codemirror_mode": {
    "name": "ipython",
    "version": 2
   },
   "file_extension": ".py",
   "mimetype": "text/x-python",
   "name": "python",
   "nbconvert_exporter": "python",
   "pygments_lexer": "ipython2",
   "version": "2.7.12"
  }
 },
 "nbformat": 4,
 "nbformat_minor": 2
}
